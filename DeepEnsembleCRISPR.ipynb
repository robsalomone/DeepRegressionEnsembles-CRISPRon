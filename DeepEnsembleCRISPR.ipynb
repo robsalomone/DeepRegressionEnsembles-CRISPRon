{
 "cells": [
  {
   "cell_type": "code",
   "execution_count": 1,
   "metadata": {},
   "outputs": [],
   "source": [
    "from torch.nn import Conv2d, ReLU, AvgPool1d, Linear, LazyLinear, ReLU, Module \n",
    "from torch import hstack, exp \n",
    "import torch  \n",
    "import matplotlib.pyplot as plt\n",
    "from torch.utils.data import Dataset, DataLoader\n",
    "from tqdm import tqdm"
   ]
  },
  {
   "cell_type": "code",
   "execution_count": 2,
   "metadata": {},
   "outputs": [],
   "source": [
    "class CRISPRnet(Module):\n",
    "    def __init__(self, nfeats = 1):\n",
    "        \"\"\"\n",
    "        Deep learning model is a PyTorch implementation of an extended version of\n",
    "        the CRISPRon model in:\n",
    "        \n",
    "        Xiang, Xi, et al. \"Enhancing CRISPR-Cas9 gRNA efficiency prediction \n",
    "        by data integration and deep learning.\" Nature communications 12.1 (2021): 3238.\n",
    "        \n",
    "        It is generalized to allow an arbitrary number of features, \n",
    "        and dual outputs (for two parameters of response variable distribution)\n",
    "\n",
    "        Args:\n",
    "            nfeats (int, optional): Number of features. Defaults to 1.\n",
    "        \"\"\"\n",
    "        super().__init__()\n",
    "        self.C1 = Conv2d(in_channels=1, out_channels=100, kernel_size=(4,3))\n",
    "        self.C2 = Conv2d(in_channels=1, out_channels=70, kernel_size=(4,5))\n",
    "        self.C3 = Conv2d(in_channels=1, out_channels=40, kernel_size=(4,7))\n",
    "\n",
    "        self.P = AvgPool1d(kernel_size=2)\n",
    "        self.ReLU = ReLU()\n",
    "\n",
    "        self.fc1 = LazyLinear(out_features=80)\n",
    "        self.fc2 = Linear(80+nfeats, 80)\n",
    "        self.fc3 = Linear(80, 60)  \n",
    "        self.fc4 = Linear(60, 1) # for output 1 \n",
    "        self.fc42 = Linear(60, 1) # for output 2\n",
    "         \n",
    "    def forward(self, input):\n",
    "        \"\"\"\n",
    "        Args:\n",
    "            input (Tensor, Tensor): \n",
    "        \"\"\"\n",
    "        \n",
    "        seqs, feats = input[0], input[1]\n",
    "        \n",
    "        o11 = self.P(self.C1(seqs).squeeze(-2)).flatten(1,-1)\n",
    "        o12 = self.P(self.C2(seqs).squeeze(-2)).flatten(1,-1)\n",
    "        o13 = self.P(self.C3(seqs).squeeze(-2)).flatten(1,-1)\n",
    "        \n",
    "        o1 = hstack([o11,o12,o13])\n",
    "        \n",
    "        o2 = self.ReLU(self.fc1(o1))\n",
    "        o3 = self.ReLU(self.fc2(hstack([o2, feats])))\n",
    "        o4 = self.ReLU(self.fc3(o3))\n",
    "        a = torch.exp(self.fc4(o4)) # added exp because parameters of beta distributions are positive \n",
    "        b = torch.exp(self.fc42(o4)) # added exp because parameters of beta distributions are positive \n",
    "        return a,b "
   ]
  },
  {
   "cell_type": "code",
   "execution_count": 3,
   "metadata": {},
   "outputs": [],
   "source": [
    "class RegressionDeepEnsemble:\n",
    "    \"\"\"\n",
    "    Simple deep ensemble implementation that allows for both Normal, Beta,\n",
    "    and Gamma distributions as the response. Note that this is the vanilla \n",
    "    implementation and not the one using predictive smoothing.  \n",
    "    \n",
    "    Lakshminarayanan, Balaji, Alexander Pritzel, and Charles Blundell. \n",
    "    \"Simple and scalable predictive uncertainty estimation \n",
    "    using deep ensembles.\" Advances in neural information processing systems 30 (2017).\n",
    "    \n",
    "    Assumes that the output variable is a scalar. \n",
    "    \"\"\"\n",
    "\n",
    "    def __init__(self, BaseNet: torch.nn.Module, dataset, n_estimators=5,\n",
    "                 batch_size=25, response_var = torch.distributions.Normal,\n",
    "                 trans_func = lambda x: x):\n",
    "        \n",
    "        \"\"\"Deep Ensembles for Univariate Regression\n",
    "\n",
    "        Args:\n",
    "            BaseNet (torch.nn.Module): Underlying neural network class for single ensemble member. \n",
    "            dataset (torch.utils.data.Dataset): Dataset used for training \n",
    "            n_estimators (int, optional): Number of models in the ensemble. Defaults to 5.\n",
    "            batch_size (int, optional): Batch size used during training. Defaults to 25.\n",
    "            response_var (torch.distributions.Distribution, optional): Two-parameter distribution \n",
    "                for the response variable.  \n",
    "            \n",
    "                Use either \n",
    "                            - torch.distributions.Normal for (-Inf, Inf) responses\n",
    "                            - torch.distributions.Beta for [0,1] responses\n",
    "                            - torch.distributions.Gamma for (0, Inf) responses\n",
    "            \n",
    "                Defaults to torch.distributions.Normal.\n",
    "            \n",
    "            trans_func (function, optional): Auxilliary function to transform for prediction.            \n",
    "                For example, if the response variable y takes values in [0,1], we can fit a Normal-response \n",
    "                model to logit(y) and then to obtain predictions we apply inverse_logit(y).  \n",
    "                \n",
    "                Defaults to identity function.\n",
    "        \"\"\"\n",
    "        \n",
    "        self.ensemble = [BaseNet() for k in range(n_estimators)] \n",
    "        self.n_estimators = n_estimators\n",
    "        self.loader = [DataLoader(dataset = dataset, batch_size=batch_size, shuffle=True) for k in range(n_estimators)]\n",
    "        self.response_var = response_var\n",
    "        self.trans_func = trans_func \n",
    "        \n",
    "    def train_ensemble(self, n_epochs=10, verbose=False):\n",
    "        \"\"\"Train ensemble model. \n",
    "\n",
    "        Args:\n",
    "            n_epochs (int, optional): Number of Epochs. Defaults to 10.\n",
    "            verbose (bool, optional): Print training loss update each epoch. Defaults to False.\n",
    "        \"\"\"\n",
    "        \n",
    "        for k in range(self.n_estimators): \n",
    "            print(f\"Training Model {k+1}/{self.n_estimators} for {n_epochs} epochs...\")\n",
    "            self._train_single_net(net = self.ensemble[k], n_epochs=n_epochs, \n",
    "                                   loader=self.loader[k], verbose=verbose)\n",
    "        \n",
    "        print(\"Training Complete!\")\n",
    "             \n",
    "    def _train_single_net(self, net, n_epochs, loader, verbose): \n",
    "        optim = torch.optim.Adam(params = net.parameters())   \n",
    "        hist = []       \n",
    "        for k in tqdm(range(n_epochs)): \n",
    "            hist = [] \n",
    "            for item in loader: \n",
    "                optim.zero_grad()   \n",
    "                prms = [output.reshape(-1) for output in net(item[:-1])]\n",
    "                loss = -self.response_var(*prms).log_prob(item[-1].reshape(-1)).mean()\n",
    "                hist.append(loss.item())\n",
    "                loss.backward() \n",
    "                optim.step()   \n",
    "            if verbose:\n",
    "                print(f\"Epoch {k+1}/{n_epochs}, Train: {torch.tensor(hist).mean():.1f}\")\n",
    "            \n",
    "        print(f\"Final Epoch Training Loss: {torch.tensor(hist).mean():.3f}\")\n",
    "            \n",
    "    def _predict(self, inputs, stochastic = True, n_samples=int(5e2)):\n",
    "        \"\"\" Returns predictions for each ensemble member. Arguments same as \n",
    "        predict method.         \n",
    "        \"\"\"\n",
    "        return [self.predict_k(inputs, k, stochastic, n_samples) \n",
    "                                   for k in range(self.n_estimators)] \n",
    "        \n",
    "    def predict(self, inputs, n_samples=int(5e2)):\n",
    "        \"\"\" Returns the mean prediction of all ensemble models for a given \n",
    "        input. \n",
    "\n",
    "        Args:\n",
    "            seq: input tensor of one-hot encoded sequences\n",
    "            feats: input tensor of features\n",
    "            stochastic (bool, optional): If true, simulates from the predicted \n",
    "                                         response variable (needed for estimating \n",
    "                                         ensemble uncertainty). Otherwise, returns\n",
    "                                         its mean. \n",
    "                                                               \n",
    "            n_samples (int, optional): Number of simulated samples\n",
    "                                       per *model* to use if if stochastic is True.\n",
    "                                       Defaults to int(5e2).\n",
    "\n",
    "        Returns:\n",
    "            tensor: Mean prediction across all models for the inputs\n",
    "        \"\"\"\n",
    "        with torch.no_grad(): \n",
    "            mns = torch.stack(self._predict(inputs, stochastic=False,\n",
    "                                            n_samples=n_samples)).mean(axis=0)\n",
    "            \n",
    "        return mns \n",
    "            \n",
    "    def predict_k(self, inputs, k, stochastic=True, n_samples=int(5e2)):\n",
    "        \"\"\" \n",
    "        Prediction from the k-th ensemble member. Returns a 1D tensor. \n",
    "        \"\"\"\n",
    "        prms = [output.reshape(-1) for output in self.ensemble[k](inputs)]\n",
    "        \n",
    "        if not stochastic: \n",
    "            return self.trans_func(self.response_var(*prms).mean)\n",
    "        else: \n",
    "            return self.trans_func(self.response_var(*prms).sample([n_samples]))\n",
    "            \n",
    "    def uncertainty_bounds(self, inputs, n_samples = int(5e2), lower=0.025, upper=0.975):\n",
    "        \"\"\"Compute the uncertainty of the response between two quantiles. \n",
    "\n",
    "        Args:\n",
    "            inputs (tuple [Tensor]):  inputs to the ensemble (should match input signature of self.BaseNet)\n",
    "            n_samples (int, optional): Number of simulated samples to estimate uncertainty quantiles. \n",
    "                                       Defaults to int(5e2). \n",
    "            lower (float, optional): Lower uncertainty quantile amount. Defaults to 0.025.\n",
    "            upper (float, optional): Upper uncertainty quantile amount. Defaults to 0.975.\n",
    "\n",
    "        Returns:\n",
    "            (float, float): lower and upper bounds for uncertainty interval. \n",
    "        \"\"\"\n",
    "        \n",
    "        v = torch.stack(self._predict(inputs,\n",
    "                                      stochastic=True, n_samples=n_samples)).flatten(0,1)\n",
    "        \n",
    "        q = torch.quantile(v, torch.tensor([lower, upper]), dim=0)\n",
    "        assert lower < upper, \"lower must be less than upper!\"\n",
    "        return q[0,:], q[1,:]\n",
    "     \n",
    "    def plot_uncertainties(self, inputs, true_vals, \n",
    "                           plot_means = False, n_samples=int(5e2),\n",
    "                           lower=0.025, upper=0.975): \n",
    "        \"\"\"Helper function to visualise uncertainties on data with known \n",
    "           response. \n",
    "\n",
    "        Args:\n",
    "            input: inputs to the ensemble (should match input signature of self.BaseNet)\n",
    "            true_vals (Tensor): observed response values\n",
    "            plot_means (bool, optional): Plot the prediction of the individual models. Defaults to False.\n",
    "            n_samples (_type_, optional): Number of simulated samples from each model \n",
    "                                          to estimate uncertainty quantiles. Defaults to int(5e2).\n",
    "            lower (float, optional): Lower uncertainty quantile amount. Defaults to 0.025.\n",
    "            upper (float, optional): Upper uncertainty quantile amount. Defaults to 0.975.\n",
    "        \"\"\"\n",
    "        \n",
    "        mns = torch.stack(self._predict(inputs, stochastic=False, n_samples=n_samples))\n",
    "        mn = mns.mean(axis=0)\n",
    "\n",
    "        L,U = self.uncertainty_bounds(inputs, n_samples=n_samples, lower=lower, upper=upper)\n",
    "        L = L.detach().numpy().reshape(-1)\n",
    "        U = U.detach().numpy().reshape(-1)\n",
    "\n",
    "        plt.clf()\n",
    "        plt.plot(L,'b_', alpha=0.25,  markersize=12)\n",
    "        plt.plot(U,'b_', alpha=0.25, markersize=12)\n",
    "        plt.vlines(torch.arange(0,len(L)), L, U, alpha=0.25, lw=3, label = \"Uncertainty\")\n",
    "\n",
    "        if plot_means: \n",
    "            for j in range(mns.shape[0]):\n",
    "                plt.plot(mns[j,:].detach().numpy(), \"r.\", markersize=10, alpha=0.25)\n",
    "                \n",
    "        plt.plot(self.trans_func(true_vals).detach().numpy(), 'k*', label = \"Truth\", markersize=9)\n",
    "        plt.plot(mn.detach().numpy(), 'b.', label = \"Prediction\", markersize=12)\n",
    "        plt.xlabel(\"Test Sample\")\n",
    "        plt.ylabel(\"Efficiency\")\n",
    "        plt.title(f\"Deep Ensemble: {self.n_estimators} Models\")\n",
    "        plt.legend()\n",
    "        plt.show()\n",
    "        "
   ]
  },
  {
   "cell_type": "code",
   "execution_count": 4,
   "metadata": {},
   "outputs": [],
   "source": [
    "class Seqs_and_Features(Dataset):   \n",
    "    def __init__(self, S, F, y):\n",
    "        \"\"\"Custom Dataset class for multimodal data involding\n",
    "           both a vector-valued sequence and related static features.\n",
    "        \n",
    "        Args: \n",
    "            S (torch.Tensor): 3d tensor of shape [observations, embedding_length, sequence_length]\n",
    "            F (torch.Tensor): 2d tensor of shape [observations,feature_length]\n",
    "            y (torch.Tensor): 1d tensor of shape [observations]\n",
    "        \"\"\"\n",
    "        \n",
    "        # need to unsqueeze to add a dimension to be \n",
    "        # of the form for one channel \n",
    "        self.S = S.unsqueeze(dim=1) \n",
    "        self.F, self.y = F, y\n",
    "        assert S.shape[0] == F.shape[0]\n",
    "        self.n_features = F.shape[1]\n",
    "\n",
    "    def __len__(self):\n",
    "        return self.S.shape[0]\n",
    "\n",
    "    def __getitem__(self, idx):\n",
    "        return self.S[idx,:,:], self.F[idx,:], self.y[idx]"
   ]
  },
  {
   "cell_type": "code",
   "execution_count": 5,
   "metadata": {},
   "outputs": [],
   "source": [
    "# Example Implementation \n",
    "\n",
    "dtype = torch.float64\n",
    "torch.set_default_dtype(dtype)\n",
    "torch.manual_seed(123)\n",
    "\n",
    "F = torch.load(\"wang2019_MP_X.pt\").reshape(-1,1).type(dtype)\n",
    "S = torch.load(\"wang2019_OH_X.pt\").transpose(1,2).type(dtype)\n",
    "\n",
    "# scale response of Wang (2019) data so it is in (0,1)\n",
    "y = torch.clamp((torch.load(\"wang2019_OH_y.pt\")/100).type(dtype), 1e-3, 0.999)\n",
    "     \n",
    "# shuffle the dataset \n",
    "perm = torch.randperm(len(y)) \n",
    "S, F, y = S[perm, :, :], F[perm,:], y[perm]  \n",
    "\n",
    "test_samples = 2500\n",
    "myData = Seqs_and_Features(S=S[:-test_samples,:,:], F=F[:-test_samples,:], y=y[:-test_samples]) \n",
    "\n",
    "S_test = S[-test_samples:,:,:].unsqueeze(dim=1)  \n",
    "F_test = F[-test_samples:,:]\n",
    "y_test =  y[-test_samples:]"
   ]
  },
  {
   "cell_type": "code",
   "execution_count": 6,
   "metadata": {},
   "outputs": [
    {
     "name": "stderr",
     "output_type": "stream",
     "text": [
      "/Users/rob/opt/anaconda3/lib/python3.9/site-packages/torch/nn/modules/lazy.py:180: UserWarning: Lazy modules are a new feature under heavy development so changes to the API or functionality can happen at any moment.\n",
      "  warnings.warn('Lazy modules are a new feature under heavy development '\n"
     ]
    },
    {
     "name": "stdout",
     "output_type": "stream",
     "text": [
      "Training Model 1/10 for 20 epochs...\n"
     ]
    },
    {
     "name": "stderr",
     "output_type": "stream",
     "text": [
      "100%|██████████| 20/20 [01:30<00:00,  4.51s/it]\n"
     ]
    },
    {
     "name": "stdout",
     "output_type": "stream",
     "text": [
      "Final Epoch Training Loss: -0.989\n",
      "Training Model 2/10 for 20 epochs...\n"
     ]
    },
    {
     "name": "stderr",
     "output_type": "stream",
     "text": [
      "100%|██████████| 20/20 [01:29<00:00,  4.48s/it]\n"
     ]
    },
    {
     "name": "stdout",
     "output_type": "stream",
     "text": [
      "Final Epoch Training Loss: -0.999\n",
      "Training Model 3/10 for 20 epochs...\n"
     ]
    },
    {
     "name": "stderr",
     "output_type": "stream",
     "text": [
      "100%|██████████| 20/20 [01:33<00:00,  4.70s/it]\n"
     ]
    },
    {
     "name": "stdout",
     "output_type": "stream",
     "text": [
      "Final Epoch Training Loss: -1.021\n",
      "Training Model 4/10 for 20 epochs...\n"
     ]
    },
    {
     "name": "stderr",
     "output_type": "stream",
     "text": [
      "100%|██████████| 20/20 [01:36<00:00,  4.82s/it]\n"
     ]
    },
    {
     "name": "stdout",
     "output_type": "stream",
     "text": [
      "Final Epoch Training Loss: -1.015\n",
      "Training Model 5/10 for 20 epochs...\n"
     ]
    },
    {
     "name": "stderr",
     "output_type": "stream",
     "text": [
      "100%|██████████| 20/20 [01:30<00:00,  4.52s/it]\n"
     ]
    },
    {
     "name": "stdout",
     "output_type": "stream",
     "text": [
      "Final Epoch Training Loss: -1.039\n",
      "Training Model 6/10 for 20 epochs...\n"
     ]
    },
    {
     "name": "stderr",
     "output_type": "stream",
     "text": [
      "100%|██████████| 20/20 [01:29<00:00,  4.50s/it]\n"
     ]
    },
    {
     "name": "stdout",
     "output_type": "stream",
     "text": [
      "Final Epoch Training Loss: -1.021\n",
      "Training Model 7/10 for 20 epochs...\n"
     ]
    },
    {
     "name": "stderr",
     "output_type": "stream",
     "text": [
      "100%|██████████| 20/20 [01:32<00:00,  4.61s/it]\n"
     ]
    },
    {
     "name": "stdout",
     "output_type": "stream",
     "text": [
      "Final Epoch Training Loss: -0.996\n",
      "Training Model 8/10 for 20 epochs...\n"
     ]
    },
    {
     "name": "stderr",
     "output_type": "stream",
     "text": [
      "100%|██████████| 20/20 [01:31<00:00,  4.60s/it]\n"
     ]
    },
    {
     "name": "stdout",
     "output_type": "stream",
     "text": [
      "Final Epoch Training Loss: -1.024\n",
      "Training Model 9/10 for 20 epochs...\n"
     ]
    },
    {
     "name": "stderr",
     "output_type": "stream",
     "text": [
      "100%|██████████| 20/20 [01:32<00:00,  4.60s/it]\n"
     ]
    },
    {
     "name": "stdout",
     "output_type": "stream",
     "text": [
      "Final Epoch Training Loss: -1.022\n",
      "Training Model 10/10 for 20 epochs...\n"
     ]
    },
    {
     "name": "stderr",
     "output_type": "stream",
     "text": [
      "100%|██████████| 20/20 [01:31<00:00,  4.55s/it]"
     ]
    },
    {
     "name": "stdout",
     "output_type": "stream",
     "text": [
      "Final Epoch Training Loss: -1.030\n",
      "Training Complete!\n"
     ]
    },
    {
     "name": "stderr",
     "output_type": "stream",
     "text": [
      "\n"
     ]
    }
   ],
   "source": [
    "# Training a model is simple, you simply create a new RegressionDeepEnsemble object\n",
    "# and call its `train_ensemble` method.\n",
    "\n",
    "myEnsemble = RegressionDeepEnsemble(BaseNet=CRISPRnet, dataset=myData,\n",
    "                                    n_estimators=10, batch_size=100,\n",
    "                                    response_var = torch.distributions.Beta)\n",
    "myEnsemble.train_ensemble(n_epochs=20)"
   ]
  },
  {
   "cell_type": "code",
   "execution_count": null,
   "metadata": {},
   "outputs": [
    {
     "data": {
      "image/png": "[encoded data removed]",
      "text/plain": [
       "<Figure size 640x480 with 1 Axes>"
      ]
     },
     "metadata": {},
     "output_type": "display_data"
    }
   ],
   "source": [
    "# Example uncertainty plot (for top predictions)\n",
    "\n",
    "L,U = myEnsemble.uncertainty_bounds(inputs =(S_test, F_test), n_samples=1000,\n",
    "                                    lower=0.01, upper=0.99) \n",
    "pred = myEnsemble.predict(inputs = (S_test, F_test))\n",
    "\n",
    "# below line gives sorting order for some input (e.g., prediction, true value, or uncertainty bounds)\n",
    "_ids = torch.argsort(y_test, descending=True)\n",
    "\n",
    "ids = range(30) #_ids[:100]\n",
    "myEnsemble.plot_uncertainties(inputs=(S_test[ids,:,:,:], F_test[ids,:]), \n",
    "                              true_vals = y_test[ids], plot_means=False,\n",
    "                              lower=0.025, upper=0.975)"
   ]
  },
  {
   "cell_type": "code",
   "execution_count": 14,
   "metadata": {},
   "outputs": [
    {
     "data": {
      "text/plain": [
       "Text(0, 0.5, 'Actual Efficiency')"
      ]
     },
     "execution_count": 14,
     "metadata": {},
     "output_type": "execute_result"
    },
    {
     "data": {
      "image/png": "[encoded data removed]",
      "text/plain": [
       "<Figure size 640x480 with 1 Axes>"
      ]
     },
     "metadata": {},
     "output_type": "display_data"
    }
   ],
   "source": [
    "plt.plot(pred, y_test, 'b.')\n",
    "plt.xlabel(\"Predicted Efficiency\")\n",
    "plt.ylabel(\"Actual Efficiency\")"
   ]
  },
  {
   "cell_type": "code",
   "execution_count": 15,
   "metadata": {},
   "outputs": [
    {
     "name": "stdout",
     "output_type": "stream",
     "text": [
      "Spearman: 0.822, Pearson: 0.855\n"
     ]
    }
   ],
   "source": [
    "# Compute Spearman correlation between predictions and true answers in test set\n",
    "from scipy.stats import spearmanr, pearsonr  \n",
    "vals = (pred.numpy(), y_test)\n",
    "print(f\"Spearman: {round(spearmanr(*vals)[0],3)}, Pearson: {round(pearsonr(*vals)[0],3)}\")"
   ]
  }
 ],
 "metadata": {
  "kernelspec": {
   "display_name": "base",
   "language": "python",
   "name": "python3"
  },
  "language_info": {
   "codemirror_mode": {
    "name": "ipython",
    "version": 3
   },
   "file_extension": ".py",
   "mimetype": "text/x-python",
   "name": "python",
   "nbconvert_exporter": "python",
   "pygments_lexer": "ipython3",
   "version": "3.9.15"
  },
  "orig_nbformat": 4
 },
 "nbformat": 4,
 "nbformat_minor": 2
}
